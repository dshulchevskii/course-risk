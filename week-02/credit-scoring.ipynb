{
 "cells": [
  {
   "cell_type": "markdown",
   "metadata": {
    "collapsed": true,
    "slideshow": {
     "slide_type": "slide"
    }
   },
   "source": [
    "# Кредитный скоринг"
   ]
  },
  {
   "cell_type": "markdown",
   "metadata": {
    "slideshow": {
     "slide_type": "subslide"
    }
   },
   "source": [
    "# Кредит\n",
    "\n",
    "* Заявитель заполняет анкету\n",
    "* Банк принимает решение\n",
    "* Клиент пользуется кредитом\n",
    "* Клиент возвращает долг или не возвращает"
   ]
  },
  {
   "cell_type": "markdown",
   "metadata": {
    "collapsed": true,
    "slideshow": {
     "slide_type": "subslide"
    }
   },
   "source": [
    "# Специфика задачи кредитного скоринга\n",
    "\n",
    "* Классы “good” и “bad” неразделимы\n",
    "* Предсказание поведения человека\n",
    "* Долгосрочное прогнозирование\n",
    "* Большая цена ошибки"
   ]
  },
  {
   "cell_type": "markdown",
   "metadata": {
    "slideshow": {
     "slide_type": "subslide"
    }
   },
   "source": [
    "# История кредитного скоринга\n",
    "\n"
   ]
  },
  {
   "cell_type": "markdown",
   "metadata": {
    "slideshow": {
     "slide_type": "subslide"
    }
   },
   "source": [
    "# Дополнительные сервисы\n",
    "\n",
    "* Автоматизация процесса принятия решения\n",
    "* Решение принимается за секунды\n",
    "* Используется множество источников информации\n",
    "* Сформирован рынок продажи информации для банков"
   ]
  },
  {
   "cell_type": "markdown",
   "metadata": {
    "slideshow": {
     "slide_type": "subslide"
    }
   },
   "source": [
    "# Примеры задач\n",
    "\n",
    "* Application scoring\n",
    "* Behavior scoring\n",
    "* Collection scoring\n",
    "* Marketing\n",
    "* Churn analysis"
   ]
  },
  {
   "cell_type": "markdown",
   "metadata": {
    "slideshow": {
     "slide_type": "slide"
    }
   },
   "source": [
    "# Формализация задачи\n",
    "\n",
    "* Конечная выборка размера n.\n",
    "* $X_i$ – вектор признаков.\n",
    "* $y_i$ – бинарная целевая переменная.\n",
    "* $(X_i, y_i)$ - независимые одинаково распределенные наблюдения.\n",
    "* Необходимо найти функцию $S(X) ≃ \\mathbb{P}(y = 1| X)$"
   ]
  },
  {
   "cell_type": "markdown",
   "metadata": {
    "slideshow": {
     "slide_type": "slide"
    }
   },
   "source": [
    "# Метрики качества\n",
    "\n",
    "* MSE (Mean square error)\n",
    "* logloss (log-Likelihood)\n",
    "* AUC (Area under the ROC curve)\n",
    "* IV (Information Value)"
   ]
  },
  {
   "cell_type": "markdown",
   "metadata": {
    "slideshow": {
     "slide_type": "subslide"
    }
   },
   "source": [
    "# Среднеквадратичное отклонение\n",
    "* MSE (Mean square error)  \n",
    "  $\\mathbb{E}[(y - S(X))^2]$"
   ]
  },
  {
   "cell_type": "markdown",
   "metadata": {
    "slideshow": {
     "slide_type": "fragment"
    }
   },
   "source": [
    "* Оптимальное значение  \n",
    "  $S(X) = \\mathbb{P}(y = 1| X)$"
   ]
  },
  {
   "cell_type": "markdown",
   "metadata": {
    "slideshow": {
     "slide_type": "fragment"
    }
   },
   "source": [
    "* Оценка  \n",
    "  $\\frac{1}{n}\\sum_{i=1}^n[(y_i - S(X_i))^2]$"
   ]
  },
  {
   "cell_type": "markdown",
   "metadata": {
    "slideshow": {
     "slide_type": "subslide"
    }
   },
   "source": [
    "# Правдоподобие\n",
    "\n",
    "* logloss (log-Likelihood)  \n",
    "  $-LL = -\\mathbb{E}[y \\ln(S(X)) + (1-y)\\ln(1 - S(X))]$"
   ]
  },
  {
   "cell_type": "markdown",
   "metadata": {
    "slideshow": {
     "slide_type": "fragment"
    }
   },
   "source": [
    "* Оптимальное значение  \n",
    "  $S(X) = \\mathbb{P}(y = 1| X)$"
   ]
  },
  {
   "cell_type": "markdown",
   "metadata": {
    "slideshow": {
     "slide_type": "fragment"
    }
   },
   "source": [
    "* Оценка  \n",
    "  $\\frac{1}{n}\\sum_{i=1}^n[y_i \\ln(S(X_i)) + (1-y_i)\\ln(1 - S(X_i))]$"
   ]
  },
  {
   "cell_type": "code",
   "execution_count": null,
   "metadata": {
    "collapsed": true,
    "slideshow": {
     "slide_type": "slide"
    }
   },
   "outputs": [],
   "source": []
  }
 ],
 "metadata": {
  "celltoolbar": "Slideshow",
  "kernelspec": {
   "display_name": "Python 3",
   "language": "python",
   "name": "python3"
  },
  "language_info": {
   "codemirror_mode": {
    "name": "ipython",
    "version": 3
   },
   "file_extension": ".py",
   "mimetype": "text/x-python",
   "name": "python",
   "nbconvert_exporter": "python",
   "pygments_lexer": "ipython3",
   "version": "3.6.3"
  }
 },
 "nbformat": 4,
 "nbformat_minor": 2
}
