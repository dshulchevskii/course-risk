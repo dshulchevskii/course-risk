{
 "cells": [
  {
   "cell_type": "markdown",
   "metadata": {},
   "source": [
    "# Анализ данных в python"
   ]
  },
  {
   "cell_type": "code",
   "execution_count": null,
   "metadata": {
    "collapsed": true
   },
   "outputs": [],
   "source": [
    "import pandas as pd\n",
    "import numpy as np\n",
    "%matplotlib inline"
   ]
  },
  {
   "cell_type": "code",
   "execution_count": null,
   "metadata": {},
   "outputs": [],
   "source": [
    "def generate_data(N=1000):\n",
    "    from scipy.special import expit, logit\n",
    "    np.random.seed(42)\n",
    "    return (\n",
    "        pd.DataFrame({'logit': np.random.randn(N) - 2})\n",
    "        .assign(pd_true=lambda x: expit(x['logit']),\n",
    "                pd=lambda x: expit(0.5 * x['logit'] - 1))\n",
    "        .assign(default_flg=lambda x: np.random.binomial(1, x['pd_true']))\n",
    "        .drop(columns=['pd_true', 'logit'])\n",
    "    )\n",
    "\n",
    "df = generate_data(N=10000)\n",
    "df.head(3)"
   ]
  },
  {
   "cell_type": "markdown",
   "metadata": {},
   "source": [
    "## Gain Chart"
   ]
  },
  {
   "cell_type": "code",
   "execution_count": null,
   "metadata": {},
   "outputs": [],
   "source": [
    "def plot_gain_chart(target, prob, num_buck=10):    \n",
    "    data = pd.DataFrame({'target': target, 'predict': prob})\n",
    "    buckets = pd.qcut(prob, q=num_buck)\n",
    "    aggregated = data.groupby(buckets).agg({'target': 'mean', 'predict': 'mean'})\n",
    "    aggregated = aggregated.sort_index(ascending=False).reset_index(drop=True)\n",
    "    aggregated.plot(kind='bar', grid=True)\n",
    "    \n",
    "plot_gain_chart(df['default_flg'], df['pd'])"
   ]
  },
  {
   "cell_type": "markdown",
   "metadata": {},
   "source": [
    "# Калибровки прогноза"
   ]
  },
  {
   "cell_type": "code",
   "execution_count": null,
   "metadata": {
    "collapsed": true
   },
   "outputs": [],
   "source": [
    "def logit(x):\n",
    "    return np.log(x / (1 - x))"
   ]
  },
  {
   "cell_type": "code",
   "execution_count": null,
   "metadata": {
    "collapsed": true
   },
   "outputs": [],
   "source": [
    "df['logit'] = logit(df['pd'])"
   ]
  },
  {
   "cell_type": "code",
   "execution_count": null,
   "metadata": {
    "collapsed": true
   },
   "outputs": [],
   "source": [
    "from sklearn.linear_model import LogisticRegression\n",
    "\n",
    "classifier = LogisticRegression()\n",
    "classifier.fit(df[['logit']], df['default_flg'])\n",
    "df['pd_calibrated'] = classifier.predict_proba(df[['logit']])[:, 1]"
   ]
  },
  {
   "cell_type": "code",
   "execution_count": null,
   "metadata": {},
   "outputs": [],
   "source": [
    "plot_gain_chart(df['default_flg'], df['pd_calibrated'])"
   ]
  },
  {
   "cell_type": "code",
   "execution_count": null,
   "metadata": {},
   "outputs": [],
   "source": [
    "from sklearn.metrics import roc_auc_score, log_loss, mean_squared_error\n",
    "\n",
    "metrics = pd.DataFrame()\n",
    "\n",
    "for predict in ['pd', 'pd_calibrated']:\n",
    "    metrics.loc[predict, 'MSE'] = mean_squared_error(df['default_flg'], df[predict])\n",
    "    metrics.loc[predict, 'AUC'] = roc_auc_score(df['default_flg'], df[predict])\n",
    "    metrics.loc[predict, 'log_loss'] = log_loss(df['default_flg'], df[predict])\n",
    "\n",
    "metrics"
   ]
  },
  {
   "cell_type": "code",
   "execution_count": null,
   "metadata": {
    "collapsed": true
   },
   "outputs": [],
   "source": [
    "from sklearn.linear_model import LinearRegression\n",
    "\n",
    "regressor = LinearRegression()\n",
    "regressor.fit(df[['pd']], df['default_flg'])\n",
    "df['pd_linear'] = regressor.predict(df[['pd']])"
   ]
  },
  {
   "cell_type": "markdown",
   "metadata": {},
   "source": [
    "## information value\n",
    "\n",
    "$$\\hat{IV} = \\sum_i\n",
    " \\left(     \\frac{bad_i}{bad_{total}} -     \\frac{good_i}{good_{total}} \\right)\n",
    " \\left( \\log\\frac{bad_i}{bad_{total}} - \\log\\frac{good_i}{good_{total}} \\right)\n",
    "$$"
   ]
  },
  {
   "cell_type": "code",
   "execution_count": null,
   "metadata": {
    "collapsed": true
   },
   "outputs": [],
   "source": [
    "def information_value(target, feature, num_buck=10):\n",
    "    bucket = pd.qcut(feature, q=num_buck)\n",
    "    data = pd.DataFrame({'target': target, 'bucket': bucket})\n",
    "    agg = data.groupby(['bucket', 'target']).size().unstack().fillna(0)\n",
    "    agg = agg / agg.sum()\n",
    "    agg['iv'] = (agg[0] - agg[1]) * (np.log(np.clip(agg[0], 0.001, 1)) - np.log(np.clip(agg[1], 0.001, 1)))\n",
    "    return agg['iv'].sum()"
   ]
  },
  {
   "cell_type": "code",
   "execution_count": null,
   "metadata": {},
   "outputs": [],
   "source": [
    "information_value(df['default_flg'], df['pd'])"
   ]
  },
  {
   "cell_type": "code",
   "execution_count": null,
   "metadata": {
    "collapsed": true
   },
   "outputs": [],
   "source": [
    "def generate_pair(iv, n=1000):\n",
    "    target = np.random.randint(0, 2, size=n)\n",
    "    feature = np.zeros(n)\n",
    "    feature[target == 0] = + iv / 2 + np.sqrt(iv) * np.random.randn(np.sum(target == 0))\n",
    "    feature[target == 1] = - iv / 2 + np.sqrt(iv) * np.random.randn(np.sum(target == 1))\n",
    "    return target, feature"
   ]
  },
  {
   "cell_type": "markdown",
   "metadata": {},
   "source": [
    "# Ссылки\n",
    "* [10 Minutes to pandas](http://pandas.pydata.org/pandas-docs/stable/10min.html)\n",
    "* [Python Data Science Handbook](https://github.com/jakevdp/PythonDataScienceHandbook) - книга на github по анализу данных в python."
   ]
  }
 ],
 "metadata": {
  "kernelspec": {
   "display_name": "Python 3",
   "language": "python",
   "name": "python3"
  },
  "language_info": {
   "codemirror_mode": {
    "name": "ipython",
    "version": 3
   },
   "file_extension": ".py",
   "mimetype": "text/x-python",
   "name": "python",
   "nbconvert_exporter": "python",
   "pygments_lexer": "ipython3",
   "version": "3.6.3"
  }
 },
 "nbformat": 4,
 "nbformat_minor": 2
}
