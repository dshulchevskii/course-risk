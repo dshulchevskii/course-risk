{
 "cells": [
  {
   "cell_type": "markdown",
   "metadata": {},
   "source": [
    "# Кредитный скоринг\n",
    "\n",
    "В задаче кредитного скоринга чаще всего применяется логистическа регрессия, как алгоритм извлечения зависимости.  \n",
    "Из-за линейности модели важным является отбор и преобразования признаков.  \n",
    "В данном ноутбуке мы рассмотрим несколько подходов к преобразования признаков."
   ]
  },
  {
   "cell_type": "markdown",
   "metadata": {},
   "source": [
    "---\n",
    "# Загружаем выборку с данными\n",
    "\n",
    "Выборка содержит заявки на кредит и поля:\n",
    "* `application_date` - дата обработки заявки\n",
    "* `default_flg` - факт наличия дефолта\n",
    "* `f*, v*, d*` - признаки заявки"
   ]
  },
  {
   "cell_type": "code",
   "execution_count": 1,
   "metadata": {},
   "outputs": [
    {
     "data": {
      "text/html": [
       "<div>\n",
       "<style scoped>\n",
       "    .dataframe tbody tr th:only-of-type {\n",
       "        vertical-align: middle;\n",
       "    }\n",
       "\n",
       "    .dataframe tbody tr th {\n",
       "        vertical-align: top;\n",
       "    }\n",
       "\n",
       "    .dataframe thead th {\n",
       "        text-align: right;\n",
       "    }\n",
       "</style>\n",
       "<table border=\"1\" class=\"dataframe\">\n",
       "  <thead>\n",
       "    <tr style=\"text-align: right;\">\n",
       "      <th></th>\n",
       "      <th>application_date</th>\n",
       "      <th>default_flg</th>\n",
       "      <th>f1</th>\n",
       "      <th>f2</th>\n",
       "      <th>f3</th>\n",
       "      <th>f4</th>\n",
       "      <th>v1</th>\n",
       "      <th>v2</th>\n",
       "      <th>v3</th>\n",
       "      <th>d1</th>\n",
       "      <th>d2</th>\n",
       "    </tr>\n",
       "  </thead>\n",
       "  <tbody>\n",
       "    <tr>\n",
       "      <th>0</th>\n",
       "      <td>2016-04-15</td>\n",
       "      <td>False</td>\n",
       "      <td>32.0</td>\n",
       "      <td>0</td>\n",
       "      <td>0.21188</td>\n",
       "      <td>40000.0</td>\n",
       "      <td>510.637947</td>\n",
       "      <td>44156.693747</td>\n",
       "      <td>2.0</td>\n",
       "      <td>0.376852</td>\n",
       "      <td>0.735676</td>\n",
       "    </tr>\n",
       "    <tr>\n",
       "      <th>1</th>\n",
       "      <td>2016-03-17</td>\n",
       "      <td>False</td>\n",
       "      <td>41.0</td>\n",
       "      <td>0</td>\n",
       "      <td>0.14440</td>\n",
       "      <td>50000.0</td>\n",
       "      <td>5050.136084</td>\n",
       "      <td>27141.827128</td>\n",
       "      <td>2.0</td>\n",
       "      <td>-0.391030</td>\n",
       "      <td>0.487837</td>\n",
       "    </tr>\n",
       "    <tr>\n",
       "      <th>2</th>\n",
       "      <td>2016-01-22</td>\n",
       "      <td>False</td>\n",
       "      <td>32.0</td>\n",
       "      <td>0</td>\n",
       "      <td>0.11931</td>\n",
       "      <td>20000.0</td>\n",
       "      <td>1129.085126</td>\n",
       "      <td>18951.450273</td>\n",
       "      <td>0.0</td>\n",
       "      <td>-0.159463</td>\n",
       "      <td>0.649534</td>\n",
       "    </tr>\n",
       "    <tr>\n",
       "      <th>3</th>\n",
       "      <td>2016-05-10</td>\n",
       "      <td>False</td>\n",
       "      <td>32.0</td>\n",
       "      <td>1</td>\n",
       "      <td>0.32720</td>\n",
       "      <td>50000.0</td>\n",
       "      <td>365.786200</td>\n",
       "      <td>16209.919629</td>\n",
       "      <td>-1.0</td>\n",
       "      <td>-0.289004</td>\n",
       "      <td>0.202991</td>\n",
       "    </tr>\n",
       "    <tr>\n",
       "      <th>4</th>\n",
       "      <td>2016-09-03</td>\n",
       "      <td>False</td>\n",
       "      <td>20.0</td>\n",
       "      <td>0</td>\n",
       "      <td>0.38527</td>\n",
       "      <td>20000.0</td>\n",
       "      <td>382.670122</td>\n",
       "      <td>31207.425740</td>\n",
       "      <td>0.0</td>\n",
       "      <td>-0.189657</td>\n",
       "      <td>0.000000</td>\n",
       "    </tr>\n",
       "  </tbody>\n",
       "</table>\n",
       "</div>"
      ],
      "text/plain": [
       "  application_date  default_flg    f1  f2       f3       f4           v1  \\\n",
       "0       2016-04-15        False  32.0   0  0.21188  40000.0   510.637947   \n",
       "1       2016-03-17        False  41.0   0  0.14440  50000.0  5050.136084   \n",
       "2       2016-01-22        False  32.0   0  0.11931  20000.0  1129.085126   \n",
       "3       2016-05-10        False  32.0   1  0.32720  50000.0   365.786200   \n",
       "4       2016-09-03        False  20.0   0  0.38527  20000.0   382.670122   \n",
       "\n",
       "             v2   v3        d1        d2  \n",
       "0  44156.693747  2.0  0.376852  0.735676  \n",
       "1  27141.827128  2.0 -0.391030  0.487837  \n",
       "2  18951.450273  0.0 -0.159463  0.649534  \n",
       "3  16209.919629 -1.0 -0.289004  0.202991  \n",
       "4  31207.425740  0.0 -0.189657  0.000000  "
      ]
     },
     "execution_count": 1,
     "metadata": {},
     "output_type": "execute_result"
    }
   ],
   "source": [
    "import pandas as pd\n",
    "import numpy as np\n",
    "\n",
    "%matplotlib inline\n",
    "\n",
    "df = pd.read_csv('credit_scoring.csv', parse_dates=['application_date'])\n",
    "df.head()"
   ]
  },
  {
   "cell_type": "markdown",
   "metadata": {},
   "source": [
    "Мы будем извлекать зависимость между признаками и целевой переменной.   \n",
    "Для валидации модели необходимо разбить выборку на две части по дате обработки заявки:\n",
    "* обучающая выборка - заявки с датой подачи заявки ранее '2016-05-01'\n",
    "* тестовая выборка - заявки с датой подачи начиная с '2016-05-01'\n",
    "\n",
    "**Задание 1. Разбейте выборку на две части и посчитайте количество объектов в каждой выборке**"
   ]
  },
  {
   "cell_type": "code",
   "execution_count": 2,
   "metadata": {},
   "outputs": [
    {
     "name": "stdout",
     "output_type": "stream",
     "text": [
      "Обучающая выборка:  202439\n",
      "Тестовая выборка :  106812\n"
     ]
    }
   ],
   "source": [
    "features = ['f1','f2','f3','f4','v1','v2', 'v3','d1', 'd2']\n",
    "\n",
    "X_train = df.query('application_date <= \"2016-05-01\"')[features]\n",
    "X_test = df.query('application_date > \"2016-05-01\"')[features]\n",
    "\n",
    "y_train = df.query('application_date <= \"2016-05-01\"')['default_flg']\n",
    "y_test = df.query('application_date > \"2016-05-01\"')['default_flg']\n",
    "\n",
    "print('Обучающая выборка: ', len(X_train))\n",
    "print('Тестовая выборка : ', len(X_test))"
   ]
  },
  {
   "cell_type": "markdown",
   "metadata": {},
   "source": [
    "---\n",
    "# Подбор коэффициента регуляризации для логистической регресии\n",
    "\n",
    "Для извлечения зависимости будем использовать [логистическую регрессию](http://scikit-learn.org/stable/modules/generated/sklearn.linear_model.LogisticRegression.html) с l2 регуляризацией.  \n",
    "\n",
    "**Задание 2.**  \n",
    "    Переберите коэффициент регуляризации в интервале от $10^{-3}$ до $10^{3}$.  \n",
    "    Постройте график зависимости качества AUC на тестовой выборке от коэфиициента регуляризации и найдите оптимальное значение."
   ]
  },
  {
   "cell_type": "code",
   "execution_count": 3,
   "metadata": {},
   "outputs": [
    {
     "name": "stdout",
     "output_type": "stream",
     "text": [
      "AUC    0.665454\n",
      "dtype: float64\n",
      "Best C:  0.01\n"
     ]
    },
    {
     "data": {
      "image/png": "[encoded data removed]",
      "text/plain": [
       "<matplotlib.figure.Figure at 0x192cd87d8d0>"
      ]
     },
     "metadata": {},
     "output_type": "display_data"
    }
   ],
   "source": [
    "from sklearn.linear_model import LogisticRegression\n",
    "from sklearn.metrics import roc_auc_score\n",
    "\n",
    "\n",
    "metrics = pd.DataFrame(columns=['AUC'], index=pd.Series(name='C'))\n",
    "\n",
    "\n",
    "for C in [0.001, 0.01]: # Здесь нужно указать больший набор перебираемых параметров\n",
    "    clf = LogisticRegression(C=C)\n",
    "    clf.fit(X_train, y_train)\n",
    "    y_pred = clf.predict_proba(X_test)[:, 1]\n",
    "    auc = roc_auc_score(y_test, y_pred)\n",
    "    metrics.loc[C] = auc\n",
    "\n",
    "print(metrics.max())\n",
    "C_best = metrics.AUC.idxmax()\n",
    "print('Best C: ', C_best)\n",
    "metrics.plot(logx=True);"
   ]
  },
  {
   "cell_type": "markdown",
   "metadata": {},
   "source": [
    "---\n",
    "# Нормализация признаков\n",
    "\n",
    "Так как l2 регуляризация одинакого штрафует все признаки, то имеет смысл нормировать их все таким образом, чтобы стандартное отклонение равнялось 1 у всех признаков. Для этого можно воспользоваться [`StandardScaler`](http://scikit-learn.org/stable/modules/generated/sklearn.preprocessing.StandardScaler.html).\n",
    "\n",
    "Нормализовывать признаки стоит исходя из обучающей выборки, чтобы избегать переобучения.  \n",
    "Для удобства трансформирования выборки В scikit-learn есть объекты [transformation](http://scikit-learn.org/stable/data_transforms.html), которые только преобразуют наборы признаков.  \n",
    "\n",
    "Так же есть возможность объединять трансформации и модель в единый [пайплайн](http://scikit-learn.org/stable/modules/pipeline.html)\n",
    "```python\n",
    "classificator = Pipeline([\n",
    "  ('name_transformation_1', Transformator_1),\n",
    "  ...\n",
    "  ('name_transformation_k', Transformator_k),\n",
    "  ('name_classificator', Classifier)\n",
    "])\n",
    "```\n",
    "\n",
    "При обучении будут подряд обучаться и применятся трансформаторы Transformator_1 ... Transformator_k, а затем на полученных признаках обучаться модель.  \n",
    "Данный подход удобен тем, что позволяет не изменять исходные выборки признаков и избежать ошибки с дублированием преобразований для обучающей и тестовой выборках.\n",
    "\n",
    "\n",
    "**Задание 3.**  \n",
    "\n",
    "  Произведите нормализацию признаков и опять подберите коэфиициент C.  \n",
    "  Каким образом изменилось качество на тестовой выборке?  \n",
    "  Запомните лучшее значение коэффициента регуляризации и затем используйте его."
   ]
  },
  {
   "cell_type": "code",
   "execution_count": 4,
   "metadata": {},
   "outputs": [
    {
     "name": "stdout",
     "output_type": "stream",
     "text": [
      "AUC    0.779493\n",
      "dtype: float64\n",
      "Best C:  0.01\n"
     ]
    },
    {
     "data": {
      "image/png": "[encoded data removed]",
      "text/plain": [
       "<matplotlib.figure.Figure at 0x192cd9c27b8>"
      ]
     },
     "metadata": {},
     "output_type": "display_data"
    }
   ],
   "source": [
    "from sklearn.preprocessing import StandardScaler\n",
    "from sklearn.pipeline import Pipeline\n",
    "\n",
    "\n",
    "metrics = pd.DataFrame(columns=['AUC'], index=pd.Series(name='C'))\n",
    "\n",
    "for C in [0.001, 0.01]: # Здесь нужно указать больший набор перебираемых параметров\n",
    "    clf = Pipeline([\n",
    "        ('scaller', StandardScaler()),\n",
    "        ('model', LogisticRegression(C=C)),\n",
    "    ])\n",
    "    \n",
    "    clf.fit(X_train, y_train)\n",
    "    y_pred = clf.predict_proba(X_test)[:, 1]\n",
    "    auc = roc_auc_score(y_test, y_pred)\n",
    "    metrics.loc[C] = auc\n",
    "\n",
    "print(metrics.max())\n",
    "C_best = metrics.AUC.idxmax()\n",
    "print('Best C: ', C_best)\n",
    "metrics.plot(logx=True);"
   ]
  },
  {
   "cell_type": "markdown",
   "metadata": {},
   "source": [
    "---\n",
    "# Нормализация WoE\n",
    "\n",
    "Влияние некоторых признаков на целеуцю переменную может быть нелинейное с точки зрения WoE.  \n",
    "Поэтому имеет смысл преобразовать признаки таким образом, чтобы зависимость стала линейна.\n",
    "\n",
    "**Задание 4.**  \n",
    "  Преобразуйте часть признаков таким образом, чтобы график зависимости WoE стал более линейным.  \n",
    "  Посчитайте качество логистической регрессии после такой нормализации."
   ]
  },
  {
   "cell_type": "code",
   "execution_count": 5,
   "metadata": {
    "collapsed": true
   },
   "outputs": [],
   "source": [
    "def woe_line(feature, target, num_bucket=10):\n",
    "    \"\"\"Подсчет зависимости WoE от среднего значения признака в бакете\"\"\"\n",
    "    from scipy.special import logit\n",
    "    \n",
    "    data = pd.DataFrame({'target': target, 'feature': feature})\n",
    "    data['bucket'] = pd.qcut(feature, q=num_bucket, duplicates='drop')\n",
    "    data['obj_count'] = 1\n",
    "    \n",
    "    target_mean = data['target'].mean()\n",
    "    total_count = data['obj_count'].sum()\n",
    "    \n",
    "    data_agg = data.groupby('bucket').agg({'target': 'mean', 'feature': 'mean', 'obj_count': 'sum'})\n",
    "    \n",
    "    data_agg['target'] = np.clip(data_agg['target'], 0.001, 0.999)\n",
    "    data_agg['woe'] = logit(data_agg['target']) - logit(target_mean)\n",
    "    \n",
    "    return data_agg.set_index('feature')['woe']"
   ]
  },
  {
   "cell_type": "code",
   "execution_count": 6,
   "metadata": {},
   "outputs": [
    {
     "data": {
      "image/png": "[encoded data removed]",
      "text/plain": [
       "<matplotlib.figure.Figure at 0x192cdb97908>"
      ]
     },
     "metadata": {},
     "output_type": "display_data"
    }
   ],
   "source": [
    "# Пример рисования зависимости woe от значений признака exp(f3)\n",
    "woe_line( np.exp(X_train['f3']) , y_train).plot(grid=True);"
   ]
  },
  {
   "cell_type": "code",
   "execution_count": 7,
   "metadata": {},
   "outputs": [
    {
     "name": "stdout",
     "output_type": "stream",
     "text": [
      "0.769115941417\n"
     ]
    }
   ],
   "source": [
    "from sklearn.preprocessing import FunctionTransformer\n",
    "\n",
    "\n",
    "def feature_modification(X):\n",
    "    \"\"\"Функция модифицирования признаков \n",
    "       \n",
    "       Если встраивать в pipeline, то на вход получает numpy.array,\n",
    "       поэтому нужно обращаться к столбцам по индексу,\n",
    "       как к элементам df.values\n",
    "    \"\"\"\n",
    "    feature_matrix = np.array(X).copy()\n",
    "    # Здесь нужно вставить преобразования признаков\n",
    "    \n",
    "    # Пример преобразования второго по индексу признака ('f3')\n",
    "    feature_matrix[:, 2] = np.exp(feature_matrix[:, 2])\n",
    "    \n",
    "    return feature_matrix\n",
    "\n",
    "\n",
    "metrics = pd.DataFrame(columns=['AUC'], index=pd.Series(name='C'))\n",
    "\n",
    "clf = Pipeline([\n",
    "    ('woe_line_modification', FunctionTransformer(feature_modification)),\n",
    "    ('scaller', StandardScaler()),\n",
    "    ('model', LogisticRegression(C=C_best)),\n",
    "])\n",
    "    \n",
    "clf.fit(X_train, y_train)\n",
    "y_pred = clf.predict_proba(X_test)[:, 1]\n",
    "auc = roc_auc_score(y_test, y_pred)\n",
    "\n",
    "print(auc)"
   ]
  },
  {
   "cell_type": "markdown",
   "metadata": {},
   "source": [
    "---\n",
    "# Стабильность признаков\n",
    "\n",
    "Так как мы используем валидацию по времени, то некоторые пизнаки могут оказаться нестабильными и сильно изменять свое распределение.  \n",
    "Иногда исключение данных признаков из обучения положительно сказывается на качестве модели на отложенной выборке.\n",
    "\n",
    "**Задание 5.**  \n",
    "  Произвести анализ стабильности распределений признаков по времени. Попытаться выделить нестабильные признаки.  \n",
    "  Посчитать качество модели с исключенными нестабильными признаки."
   ]
  },
  {
   "cell_type": "code",
   "execution_count": 8,
   "metadata": {
    "collapsed": true
   },
   "outputs": [],
   "source": [
    "def plot_distribution_stability(feature, date, num_buck=10, date_freq='M'):\n",
    "    \"\"\"Рисуем изменение распределения признака по времени\"\"\"\n",
    "    df = pd.DataFrame({'feature': feature, 'date': date})\n",
    "    df['feature_buck'] = pd.qcut(feature, q=num_buck, duplicates='drop')\n",
    "    df_agg = df.groupby([pd.Grouper(key='date', freq=date_freq), 'feature_buck']).size().unstack()\n",
    "    df_agg = df_agg.apply(lambda x: x / df_agg.sum(axis=1))\n",
    "    df_agg.plot(kind='bar', stacked=True).legend(bbox_to_anchor=(1, 1))"
   ]
  },
  {
   "cell_type": "code",
   "execution_count": 9,
   "metadata": {},
   "outputs": [
    {
     "data": {
      "image/png": "[encoded data removed]",
      "text/plain": [
       "<matplotlib.figure.Figure at 0x192cd9a9da0>"
      ]
     },
     "metadata": {},
     "output_type": "display_data"
    }
   ],
   "source": [
    "# Пример рисования изменения распределения у признака 'f1'\n",
    "plot_distribution_stability(df['f1'], df['application_date'])"
   ]
  },
  {
   "cell_type": "code",
   "execution_count": 10,
   "metadata": {},
   "outputs": [
    {
     "name": "stdout",
     "output_type": "stream",
     "text": [
      "0.548660573474\n"
     ]
    }
   ],
   "source": [
    "def keep_features(X):\n",
    "    \"\"\"Функция отбрасывания части признаков\n",
    "       \n",
    "       Если встраивать в pipeline, то на вход получает numpy.array,\n",
    "       поэтому нужно обращаться к столбцам по индексу,\n",
    "       как к элементам pd.DataFrame.values\n",
    "    \"\"\"\n",
    "    # Здесь нужно указать список номеров признаков, которые будут использоваться в модели\n",
    "    \n",
    "    # Пример, когда используется только два первых признака\n",
    "    features_index = [0, 1]\n",
    "        \n",
    "    return np.array(X)[:, features_index]\n",
    "\n",
    "\n",
    "metrics = pd.DataFrame(columns=['AUC'], index=pd.Series(name='C'))\n",
    "\n",
    "\n",
    "clf = Pipeline([\n",
    "    ('woe_line_modification', FunctionTransformer(feature_modification)),\n",
    "    ('keep_features', FunctionTransformer(keep_features)),\n",
    "    ('scaller', StandardScaler()),\n",
    "    ('model', LogisticRegression(C=C_best)),\n",
    "])\n",
    "    \n",
    "clf.fit(X_train, y_train)\n",
    "y_pred = clf.predict_proba(X_test)[:, 1]\n",
    "auc = roc_auc_score(y_test, y_pred)\n",
    "\n",
    "print(auc)"
   ]
  },
  {
   "cell_type": "markdown",
   "metadata": {},
   "source": [
    "---\n",
    "# Вывод\n",
    "\n",
    "**Задание 6.**  \n",
    "  Сравните результаты преобразования и отборов признаков по качеству. Какие методы и почему дали прирост в качестве.  \n",
    "  Какие из них можно автоматизировать и каким образом."
   ]
  }
 ],
 "metadata": {
  "kernelspec": {
   "display_name": "Python 3",
   "language": "python",
   "name": "python3"
  },
  "language_info": {
   "codemirror_mode": {
    "name": "ipython",
    "version": 3
   },
   "file_extension": ".py",
   "mimetype": "text/x-python",
   "name": "python",
   "nbconvert_exporter": "python",
   "pygments_lexer": "ipython3",
   "version": "3.6.3"
  }
 },
 "nbformat": 4,
 "nbformat_minor": 2
}
