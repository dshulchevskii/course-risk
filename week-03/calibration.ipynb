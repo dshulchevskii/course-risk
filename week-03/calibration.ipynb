{
 "cells": [
  {
   "cell_type": "markdown",
   "metadata": {},
   "source": [
    "# Калибровка вероятности дефолта\n",
    "\n",
    "Для принятия решения важно не только учметь разделять между собой \"хороших\" клиентов от \"плохих\", но и достаточно точно прогнозировать вероятность начтупления дефолта. Когда качество разделения модели достаточно сильное, но попадание в реальные риски плохое можно производить калибровку - несложное преобразование прогноза вероятности дефолта. \n",
    "\n",
    "В данном ноутбуке мы рассмотрим несколько подходов к калибровки модели."
   ]
  },
  {
   "cell_type": "markdown",
   "metadata": {},
   "source": [
    "Загрузим сначала выборку с данными."
   ]
  },
  {
   "cell_type": "code",
   "execution_count": 1,
   "metadata": {},
   "outputs": [
    {
     "data": {
      "text/html": [
       "<div>\n",
       "<style scoped>\n",
       "    .dataframe tbody tr th:only-of-type {\n",
       "        vertical-align: middle;\n",
       "    }\n",
       "\n",
       "    .dataframe tbody tr th {\n",
       "        vertical-align: top;\n",
       "    }\n",
       "\n",
       "    .dataframe thead th {\n",
       "        text-align: right;\n",
       "    }\n",
       "</style>\n",
       "<table border=\"1\" class=\"dataframe\">\n",
       "  <thead>\n",
       "    <tr style=\"text-align: right;\">\n",
       "      <th></th>\n",
       "      <th>pd</th>\n",
       "      <th>default_flg</th>\n",
       "      <th>category_feature</th>\n",
       "    </tr>\n",
       "  </thead>\n",
       "  <tbody>\n",
       "    <tr>\n",
       "      <th>0</th>\n",
       "      <td>0.147840</td>\n",
       "      <td>1</td>\n",
       "      <td>C</td>\n",
       "    </tr>\n",
       "    <tr>\n",
       "      <th>1</th>\n",
       "      <td>0.112133</td>\n",
       "      <td>0</td>\n",
       "      <td>E</td>\n",
       "    </tr>\n",
       "  </tbody>\n",
       "</table>\n",
       "</div>"
      ],
      "text/plain": [
       "         pd  default_flg category_feature\n",
       "0  0.147840            1                C\n",
       "1  0.112133            0                E"
      ]
     },
     "execution_count": 1,
     "metadata": {},
     "output_type": "execute_result"
    }
   ],
   "source": [
    "import pandas as pd\n",
    "import numpy as np\n",
    "%matplotlib inline\n",
    "\n",
    "df = pd.read_csv('calibration.csv')\n",
    "df.head(2)"
   ]
  },
  {
   "cell_type": "code",
   "execution_count": 2,
   "metadata": {},
   "outputs": [
    {
     "data": {
      "text/plain": [
       "(30000, 3)"
      ]
     },
     "execution_count": 2,
     "metadata": {},
     "output_type": "execute_result"
    }
   ],
   "source": [
    "df.shape"
   ]
  },
  {
   "cell_type": "markdown",
   "metadata": {},
   "source": [
    "В данной выборке присутствует 30000 наблюдений, и три поля."
   ]
  },
  {
   "cell_type": "markdown",
   "metadata": {},
   "source": [
    "# Gain Chart\n",
    "\n",
    "Один из способов визуально отобразить качество прогноза - диаграма gain chart.  \n",
    "Выборка разбивается на равные по количеству бакеты в зависимости от значения прогноза. В каждом бакете считается средний прогноз и частота наступления дефолта."
   ]
  },
  {
   "cell_type": "code",
   "execution_count": 3,
   "metadata": {
    "collapsed": true
   },
   "outputs": [],
   "source": [
    "def plot_gain_chart(target, prob, num_buck=10):    \n",
    "    data = pd.DataFrame({'target': target, 'predict': prob})\n",
    "    buckets = pd.qcut(prob, q=num_buck)\n",
    "    aggregated = data.groupby(buckets).agg({'target': 'mean', 'predict': 'mean'})\n",
    "    aggregated = aggregated.sort_index(ascending=False).reset_index(drop=True)\n",
    "    aggregated.plot(kind='bar', grid=True)"
   ]
  },
  {
   "cell_type": "code",
   "execution_count": 4,
   "metadata": {},
   "outputs": [
    {
     "data": {
      "image/png": "[encoded data removed]",
      "text/plain": [
       "<matplotlib.figure.Figure at 0x1e7e6c7cc88>"
      ]
     },
     "metadata": {},
     "output_type": "display_data"
    }
   ],
   "source": [
    "plot_gain_chart(df['default_flg'], df['pd'])"
   ]
  },
  {
   "cell_type": "markdown",
   "metadata": {},
   "source": [
    "По данной диаграмме видно, что среди бакетов [0, 1, 2] реальная частота дефолтов оказывается выше, чем средний прогноз.  "
   ]
  },
  {
   "cell_type": "markdown",
   "metadata": {},
   "source": [
    "К массиву `df['pd']` можно применять арифметические преобразования, которые применяются поэлементно."
   ]
  },
  {
   "cell_type": "code",
   "execution_count": 5,
   "metadata": {},
   "outputs": [
    {
     "data": {
      "image/png": "[encoded data removed]",
      "text/plain": [
       "<matplotlib.figure.Figure at 0x1e7e8deb630>"
      ]
     },
     "metadata": {},
     "output_type": "display_data"
    }
   ],
   "source": [
    "plot_gain_chart(df['default_flg'], 2 * df['pd'] - 0.1)"
   ]
  },
  {
   "cell_type": "markdown",
   "metadata": {},
   "source": [
    "Так же можно применять и любые преобразования из из numpy, которые так же поэлементные. Например, `np.exp()` или `np.sin()`."
   ]
  },
  {
   "cell_type": "markdown",
   "metadata": {},
   "source": [
    "# Калибровка логистической регрессией"
   ]
  },
  {
   "cell_type": "markdown",
   "metadata": {},
   "source": [
    "В логистической регрессии присутствует сигмоидное преобразование $\\sigma(x) = \\frac{1}{1+exp(-x)}$.  "
   ]
  },
  {
   "cell_type": "markdown",
   "metadata": {},
   "source": [
    "**Задание. Напишите функцию логистического преобразования, которое является обратным к сигмоидному.**"
   ]
  },
  {
   "cell_type": "code",
   "execution_count": 6,
   "metadata": {
    "collapsed": true
   },
   "outputs": [],
   "source": [
    "def logit(x):\n",
    "    return np.log(x / (1 - x))"
   ]
  },
  {
   "cell_type": "markdown",
   "metadata": {},
   "source": [
    "Создадим новый столбец `logit` в таблице"
   ]
  },
  {
   "cell_type": "code",
   "execution_count": 7,
   "metadata": {},
   "outputs": [],
   "source": [
    "df['logit'] = logit(df['pd'])"
   ]
  },
  {
   "cell_type": "markdown",
   "metadata": {},
   "source": [
    "**Задание. Нарисуйте теперь диаграмму рассеивания между `logit` и `pd`. Точки должны лечь на часть сигмоиды.**"
   ]
  },
  {
   "cell_type": "code",
   "execution_count": 8,
   "metadata": {},
   "outputs": [
    {
     "data": {
      "image/png": "[encoded data removed]",
      "text/plain": [
       "<matplotlib.figure.Figure at 0x1e7e90e57b8>"
      ]
     },
     "metadata": {},
     "output_type": "display_data"
    }
   ],
   "source": [
    "df.plot(x='logit', y='pd', kind='scatter', grid=True);"
   ]
  },
  {
   "cell_type": "markdown",
   "metadata": {},
   "source": [
    "Произведем калибровку, обучив логистическую регрессию на одном признаке `df['logit']`.  \n",
    "В scikit-learn алгоритм машинного обучения выглядят следующим образом:"
   ]
  },
  {
   "cell_type": "code",
   "execution_count": 9,
   "metadata": {},
   "outputs": [],
   "source": [
    "from sklearn.linear_model import LogisticRegression\n",
    "\n",
    "classifier = LogisticRegression()                                      # Определяем объект - классификатор\n",
    "classifier.fit( df[['logit']], df['default_flg'] )                     # Производим обучение, вызвав метод fit\n",
    "df['pd_calibrated'] = classifier.predict_proba( df[['logit']] )[:, 1]  # Считаем прогноз, записывая результат в таблицу"
   ]
  },
  {
   "cell_type": "markdown",
   "metadata": {},
   "source": [
    "После обучения (запуска метода `.fit()`), у обекта `classifier` появляются атрибуты с коэффициентами"
   ]
  },
  {
   "cell_type": "code",
   "execution_count": 10,
   "metadata": {},
   "outputs": [
    {
     "data": {
      "text/plain": [
       "array([ 1.99366937])"
      ]
     },
     "execution_count": 10,
     "metadata": {},
     "output_type": "execute_result"
    }
   ],
   "source": [
    "classifier.intercept_  # свободный член"
   ]
  },
  {
   "cell_type": "code",
   "execution_count": 11,
   "metadata": {},
   "outputs": [
    {
     "data": {
      "text/plain": [
       "array([[ 2.0059524]])"
      ]
     },
     "execution_count": 11,
     "metadata": {},
     "output_type": "execute_result"
    }
   ],
   "source": [
    "classifier.coef_       # коэффициенты перед признаками, в нашем случае всего одно число, так как признак один"
   ]
  },
  {
   "cell_type": "markdown",
   "metadata": {},
   "source": [
    "Посмотрим как теперь выглядит график gain chart."
   ]
  },
  {
   "cell_type": "code",
   "execution_count": 12,
   "metadata": {},
   "outputs": [
    {
     "data": {
      "image/png": "[encoded data removed]",
      "text/plain": [
       "<matplotlib.figure.Figure at 0x1e7e901f0f0>"
      ]
     },
     "metadata": {},
     "output_type": "display_data"
    }
   ],
   "source": [
    "plot_gain_chart(df['default_flg'], df['pd_calibrated'])"
   ]
  },
  {
   "cell_type": "markdown",
   "metadata": {},
   "source": [
    "Столбики с прогнозом и с частотой дефолтов стали гораздо ближе.  \n",
    "Помимо визуализации полезно так же считать формальные метрики.  \n",
    "**Задание. Сравните между собой по разным метрикам точность двух прогнозов. Объясните результаты.**"
   ]
  },
  {
   "cell_type": "code",
   "execution_count": 13,
   "metadata": {},
   "outputs": [
    {
     "data": {
      "text/html": [
       "<div>\n",
       "<style scoped>\n",
       "    .dataframe tbody tr th:only-of-type {\n",
       "        vertical-align: middle;\n",
       "    }\n",
       "\n",
       "    .dataframe tbody tr th {\n",
       "        vertical-align: top;\n",
       "    }\n",
       "\n",
       "    .dataframe thead th {\n",
       "        text-align: right;\n",
       "    }\n",
       "</style>\n",
       "<table border=\"1\" class=\"dataframe\">\n",
       "  <thead>\n",
       "    <tr style=\"text-align: right;\">\n",
       "      <th></th>\n",
       "      <th>MSE</th>\n",
       "      <th>AUC</th>\n",
       "      <th>log_loss</th>\n",
       "    </tr>\n",
       "  </thead>\n",
       "  <tbody>\n",
       "    <tr>\n",
       "      <th>pd</th>\n",
       "      <td>0.119903</td>\n",
       "      <td>0.747852</td>\n",
       "      <td>0.389770</td>\n",
       "    </tr>\n",
       "    <tr>\n",
       "      <th>pd_calibrated</th>\n",
       "      <td>0.114596</td>\n",
       "      <td>0.747852</td>\n",
       "      <td>0.374522</td>\n",
       "    </tr>\n",
       "  </tbody>\n",
       "</table>\n",
       "</div>"
      ],
      "text/plain": [
       "                    MSE       AUC  log_loss\n",
       "pd             0.119903  0.747852  0.389770\n",
       "pd_calibrated  0.114596  0.747852  0.374522"
      ]
     },
     "execution_count": 13,
     "metadata": {},
     "output_type": "execute_result"
    }
   ],
   "source": [
    "from sklearn.metrics import roc_auc_score, log_loss, mean_squared_error\n",
    "\n",
    "metrics = pd.DataFrame()  # можно создавать пустую таблицу, заполняя её позже\n",
    "\n",
    "def add_metrics(predict):\n",
    "    # для обращения к ячейкам есть метод .loc[название строки, название столбца]\n",
    "    metrics.loc[predict, 'MSE'     ] = mean_squared_error (df['default_flg'], df[predict])\n",
    "    metrics.loc[predict, 'AUC'     ] = roc_auc_score      (df['default_flg'], df[predict])\n",
    "    metrics.loc[predict, 'log_loss'] = log_loss           (df['default_flg'], df[predict])\n",
    "    \n",
    "for predict in ['pd', 'pd_calibrated']:  # в теле цикла переменная predict последовательно принимает значения\n",
    "    add_metrics(predict)                 # 'pd', 'pd_calibrated'\n",
    "\n",
    "metrics"
   ]
  },
  {
   "cell_type": "markdown",
   "metadata": {},
   "source": [
    "# Калибровка линейной регрессией"
   ]
  },
  {
   "cell_type": "markdown",
   "metadata": {},
   "source": [
    "Воспользуемся теперь линейной регрессией.  \n",
    "Интерфейс обучения модели практически такой же.  "
   ]
  },
  {
   "cell_type": "code",
   "execution_count": 14,
   "metadata": {
    "collapsed": true
   },
   "outputs": [],
   "source": [
    "from sklearn.linear_model import LinearRegression\n",
    "\n",
    "regressor = LinearRegression()\n",
    "regressor.fit(df[['pd']], df['default_flg'])\n",
    "df['pd_linear'] = regressor.predict(df[['pd']])"
   ]
  },
  {
   "cell_type": "markdown",
   "metadata": {},
   "source": [
    "**Задание. Посчитайте метрики для прогноза `pd_linear`. Обясните результаты.**"
   ]
  },
  {
   "cell_type": "code",
   "execution_count": 15,
   "metadata": {},
   "outputs": [
    {
     "data": {
      "text/html": [
       "<div>\n",
       "<style scoped>\n",
       "    .dataframe tbody tr th:only-of-type {\n",
       "        vertical-align: middle;\n",
       "    }\n",
       "\n",
       "    .dataframe tbody tr th {\n",
       "        vertical-align: top;\n",
       "    }\n",
       "\n",
       "    .dataframe thead th {\n",
       "        text-align: right;\n",
       "    }\n",
       "</style>\n",
       "<table border=\"1\" class=\"dataframe\">\n",
       "  <thead>\n",
       "    <tr style=\"text-align: right;\">\n",
       "      <th></th>\n",
       "      <th>MSE</th>\n",
       "      <th>AUC</th>\n",
       "      <th>log_loss</th>\n",
       "    </tr>\n",
       "  </thead>\n",
       "  <tbody>\n",
       "    <tr>\n",
       "      <th>pd</th>\n",
       "      <td>0.119903</td>\n",
       "      <td>0.747852</td>\n",
       "      <td>0.389770</td>\n",
       "    </tr>\n",
       "    <tr>\n",
       "      <th>pd_calibrated</th>\n",
       "      <td>0.114596</td>\n",
       "      <td>0.747852</td>\n",
       "      <td>0.374522</td>\n",
       "    </tr>\n",
       "    <tr>\n",
       "      <th>pd_linear</th>\n",
       "      <td>0.114873</td>\n",
       "      <td>0.747852</td>\n",
       "      <td>0.402655</td>\n",
       "    </tr>\n",
       "  </tbody>\n",
       "</table>\n",
       "</div>"
      ],
      "text/plain": [
       "                    MSE       AUC  log_loss\n",
       "pd             0.119903  0.747852  0.389770\n",
       "pd_calibrated  0.114596  0.747852  0.374522\n",
       "pd_linear      0.114873  0.747852  0.402655"
      ]
     },
     "execution_count": 15,
     "metadata": {},
     "output_type": "execute_result"
    }
   ],
   "source": [
    "add_metrics('pd_linear')\n",
    "metrics"
   ]
  },
  {
   "cell_type": "markdown",
   "metadata": {},
   "source": [
    "# Калибровка [Isotonic regression](http://scikit-learn.org/stable/modules/isotonic.html)\n",
    "\n",
    "<img src=\"http://scikit-learn.org/stable/_images/sphx_glr_plot_isotonic_regression_0011.png\" width=500>"
   ]
  },
  {
   "cell_type": "markdown",
   "metadata": {},
   "source": [
    "Логистическая и линейная регрессия находи зависимость между наборами признаков и целевой переменной, в isotonic ищет зависимость между всего одним признаком и целевой переменной. Но за то поиск происходит в достаточно большом классе функций - все возможные монотонные преобразования.  \n",
    "\n",
    "Из за наличия только одного признака в метод `.fit()` и `.predict()` нужно подавать одномерный массив с признаком, а не двумерную матрицу, как в прошлых моделях.\n",
    "\n",
    "**Задание. Произведите калибровку isotonic regression и посчитайте метрики. Объясните результаты.**"
   ]
  },
  {
   "cell_type": "code",
   "execution_count": 16,
   "metadata": {
    "collapsed": true
   },
   "outputs": [],
   "source": [
    "from sklearn.isotonic import IsotonicRegression\n",
    "reg = IsotonicRegression()\n",
    "reg.fit(df['pd'], df['default_flg'])\n",
    "df['pd_isotonic'] = reg.predict(df['pd'])"
   ]
  },
  {
   "cell_type": "code",
   "execution_count": 17,
   "metadata": {},
   "outputs": [
    {
     "data": {
      "text/html": [
       "<div>\n",
       "<style scoped>\n",
       "    .dataframe tbody tr th:only-of-type {\n",
       "        vertical-align: middle;\n",
       "    }\n",
       "\n",
       "    .dataframe tbody tr th {\n",
       "        vertical-align: top;\n",
       "    }\n",
       "\n",
       "    .dataframe thead th {\n",
       "        text-align: right;\n",
       "    }\n",
       "</style>\n",
       "<table border=\"1\" class=\"dataframe\">\n",
       "  <thead>\n",
       "    <tr style=\"text-align: right;\">\n",
       "      <th></th>\n",
       "      <th>MSE</th>\n",
       "      <th>AUC</th>\n",
       "      <th>log_loss</th>\n",
       "    </tr>\n",
       "  </thead>\n",
       "  <tbody>\n",
       "    <tr>\n",
       "      <th>pd</th>\n",
       "      <td>0.119903</td>\n",
       "      <td>0.747852</td>\n",
       "      <td>0.389770</td>\n",
       "    </tr>\n",
       "    <tr>\n",
       "      <th>pd_calibrated</th>\n",
       "      <td>0.114596</td>\n",
       "      <td>0.747852</td>\n",
       "      <td>0.374522</td>\n",
       "    </tr>\n",
       "    <tr>\n",
       "      <th>pd_linear</th>\n",
       "      <td>0.114873</td>\n",
       "      <td>0.747852</td>\n",
       "      <td>0.402655</td>\n",
       "    </tr>\n",
       "    <tr>\n",
       "      <th>pd_isotonic</th>\n",
       "      <td>0.114283</td>\n",
       "      <td>0.749341</td>\n",
       "      <td>0.373296</td>\n",
       "    </tr>\n",
       "  </tbody>\n",
       "</table>\n",
       "</div>"
      ],
      "text/plain": [
       "                    MSE       AUC  log_loss\n",
       "pd             0.119903  0.747852  0.389770\n",
       "pd_calibrated  0.114596  0.747852  0.374522\n",
       "pd_linear      0.114873  0.747852  0.402655\n",
       "pd_isotonic    0.114283  0.749341  0.373296"
      ]
     },
     "execution_count": 17,
     "metadata": {},
     "output_type": "execute_result"
    }
   ],
   "source": [
    "add_metrics('pd_isotonic')\n",
    "metrics"
   ]
  },
  {
   "cell_type": "markdown",
   "metadata": {},
   "source": [
    "# information value\n",
    "\n",
    "$$\\hat{IV} = \\sum_i\n",
    " \\left(     \\frac{bad_i}{bad_{total}} -     \\frac{good_i}{good_{total}} \\right)\n",
    " \\left( \\log\\frac{bad_i}{bad_{total}} - \\log\\frac{good_i}{good_{total}} \\right)\n",
    "$$"
   ]
  },
  {
   "cell_type": "code",
   "execution_count": 18,
   "metadata": {
    "collapsed": true
   },
   "outputs": [],
   "source": [
    "def information_value(target, feature, num_buck=10):\n",
    "    bucket = pd.qcut(feature, q=num_buck)\n",
    "    data = pd.DataFrame({'target': target, 'bucket': bucket})\n",
    "    agg = data.groupby(['bucket', 'target']).size().unstack().fillna(0)\n",
    "    agg = agg / agg.sum()\n",
    "    agg['iv'] = (agg[0] - agg[1]) * (np.log(np.clip(agg[0], 0.001, 1)) - np.log(np.clip(agg[1], 0.001, 1)))\n",
    "    return agg['iv'].sum()"
   ]
  },
  {
   "cell_type": "code",
   "execution_count": 19,
   "metadata": {},
   "outputs": [
    {
     "data": {
      "text/plain": [
       "0.84616205767765273"
      ]
     },
     "execution_count": 19,
     "metadata": {},
     "output_type": "execute_result"
    }
   ],
   "source": [
    "information_value(df['default_flg'], df['pd'])"
   ]
  },
  {
   "cell_type": "markdown",
   "metadata": {},
   "source": [
    "С помощью данной функции можно посчитать iv только для числового признака."
   ]
  },
  {
   "cell_type": "markdown",
   "metadata": {},
   "source": [
    "**Задание. Модифицируйте функцию, таким образом, чтобы на вход можно было бы подавать категориальный признак. Посчитайте iv у category_feature.**"
   ]
  },
  {
   "cell_type": "markdown",
   "metadata": {},
   "source": [
    "# Калибровка по отдельным группам"
   ]
  },
  {
   "cell_type": "code",
   "execution_count": 20,
   "metadata": {},
   "outputs": [
    {
     "name": "stdout",
     "output_type": "stream",
     "text": [
      "Optimization terminated successfully.\n",
      "         Current function value: 0.371699\n",
      "         Iterations 7\n"
     ]
    },
    {
     "data": {
      "text/html": [
       "<table class=\"simpletable\">\n",
       "<tr>\n",
       "        <td>Model:</td>              <td>Logit</td>       <td>No. Iterations:</td>    <td>7.0000</td>  \n",
       "</tr>\n",
       "<tr>\n",
       "  <td>Dependent Variable:</td>    <td>default_flg</td>   <td>Pseudo R-squared:</td>    <td>0.133</td>  \n",
       "</tr>\n",
       "<tr>\n",
       "         <td>Date:</td>        <td>2018-01-30 14:48</td>       <td>AIC:</td>        <td>22313.9569</td>\n",
       "</tr>\n",
       "<tr>\n",
       "   <td>No. Observations:</td>        <td>30000</td>            <td>BIC:</td>        <td>22363.8106</td>\n",
       "</tr>\n",
       "<tr>\n",
       "       <td>Df Model:</td>              <td>5</td>         <td>Log-Likelihood:</td>    <td>-11151.</td> \n",
       "</tr>\n",
       "<tr>\n",
       "     <td>Df Residuals:</td>          <td>29994</td>          <td>LL-Null:</td>        <td>-12862.</td> \n",
       "</tr>\n",
       "<tr>\n",
       "      <td>Converged:</td>           <td>1.0000</td>           <td>Scale:</td>         <td>1.0000</td>  \n",
       "</tr>\n",
       "</table>\n",
       "<table class=\"simpletable\">\n",
       "<tr>\n",
       "            <td></td>             <th>Coef.</th>  <th>Std.Err.</th>    <th>z</th>     <th>P>|z|</th> <th>[0.025</th>  <th>0.975]</th> \n",
       "</tr>\n",
       "<tr>\n",
       "  <th>Intercept</th>             <td>2.0423</td>   <td>0.0801</td>  <td>25.4890</td> <td>0.0000</td> <td>1.8853</td>  <td>2.1993</td> \n",
       "</tr>\n",
       "<tr>\n",
       "  <th>category_feature[T.B]</th> <td>-0.4805</td>  <td>0.0643</td>  <td>-7.4745</td> <td>0.0000</td> <td>-0.6066</td> <td>-0.3545</td>\n",
       "</tr>\n",
       "<tr>\n",
       "  <th>category_feature[T.C]</th> <td>0.1853</td>   <td>0.0536</td>  <td>3.4566</td>  <td>0.0005</td> <td>0.0802</td>  <td>0.2904</td> \n",
       "</tr>\n",
       "<tr>\n",
       "  <th>category_feature[T.D]</th> <td>-0.2401</td>  <td>0.0670</td>  <td>-3.5832</td> <td>0.0003</td> <td>-0.3714</td> <td>-0.1088</td>\n",
       "</tr>\n",
       "<tr>\n",
       "  <th>category_feature[T.E]</th> <td>0.0385</td>   <td>0.0537</td>  <td>0.7178</td>  <td>0.4729</td> <td>-0.0667</td> <td>0.1437</td> \n",
       "</tr>\n",
       "<tr>\n",
       "  <th>logit</th>                 <td>2.0119</td>   <td>0.0391</td>  <td>51.4125</td> <td>0.0000</td> <td>1.9352</td>  <td>2.0886</td> \n",
       "</tr>\n",
       "</table>"
      ],
      "text/plain": [
       "<class 'statsmodels.iolib.summary2.Summary'>\n",
       "\"\"\"\n",
       "                           Results: Logit\n",
       "=====================================================================\n",
       "Model:                Logit             No. Iterations:    7.0000    \n",
       "Dependent Variable:   default_flg       Pseudo R-squared:  0.133     \n",
       "Date:                 2018-01-30 14:48  AIC:               22313.9569\n",
       "No. Observations:     30000             BIC:               22363.8106\n",
       "Df Model:             5                 Log-Likelihood:    -11151.   \n",
       "Df Residuals:         29994             LL-Null:           -12862.   \n",
       "Converged:            1.0000            Scale:             1.0000    \n",
       "---------------------------------------------------------------------\n",
       "                       Coef.  Std.Err.    z    P>|z|   [0.025  0.975]\n",
       "---------------------------------------------------------------------\n",
       "Intercept              2.0423   0.0801 25.4890 0.0000  1.8853  2.1993\n",
       "category_feature[T.B] -0.4805   0.0643 -7.4745 0.0000 -0.6066 -0.3545\n",
       "category_feature[T.C]  0.1853   0.0536  3.4566 0.0005  0.0802  0.2904\n",
       "category_feature[T.D] -0.2401   0.0670 -3.5832 0.0003 -0.3714 -0.1088\n",
       "category_feature[T.E]  0.0385   0.0537  0.7178 0.4729 -0.0667  0.1437\n",
       "logit                  2.0119   0.0391 51.4125 0.0000  1.9352  2.0886\n",
       "=====================================================================\n",
       "\n",
       "\"\"\""
      ]
     },
     "execution_count": 20,
     "metadata": {},
     "output_type": "execute_result"
    }
   ],
   "source": [
    "import statsmodels.formula.api as smf\n",
    "\n",
    "log_reg = smf.logit('default_flg ~ category_feature + logit', data=df).fit()\n",
    "df['pd_category_calibration'] = log_reg.predict(df)\n",
    "log_reg.summary2()"
   ]
  },
  {
   "cell_type": "code",
   "execution_count": 21,
   "metadata": {},
   "outputs": [
    {
     "data": {
      "text/html": [
       "<div>\n",
       "<style scoped>\n",
       "    .dataframe tbody tr th:only-of-type {\n",
       "        vertical-align: middle;\n",
       "    }\n",
       "\n",
       "    .dataframe tbody tr th {\n",
       "        vertical-align: top;\n",
       "    }\n",
       "\n",
       "    .dataframe thead th {\n",
       "        text-align: right;\n",
       "    }\n",
       "</style>\n",
       "<table border=\"1\" class=\"dataframe\">\n",
       "  <thead>\n",
       "    <tr style=\"text-align: right;\">\n",
       "      <th></th>\n",
       "      <th>MSE</th>\n",
       "      <th>AUC</th>\n",
       "      <th>log_loss</th>\n",
       "    </tr>\n",
       "  </thead>\n",
       "  <tbody>\n",
       "    <tr>\n",
       "      <th>pd</th>\n",
       "      <td>0.119903</td>\n",
       "      <td>0.747852</td>\n",
       "      <td>0.389770</td>\n",
       "    </tr>\n",
       "    <tr>\n",
       "      <th>pd_calibrated</th>\n",
       "      <td>0.114596</td>\n",
       "      <td>0.747852</td>\n",
       "      <td>0.374522</td>\n",
       "    </tr>\n",
       "    <tr>\n",
       "      <th>pd_linear</th>\n",
       "      <td>0.114873</td>\n",
       "      <td>0.747852</td>\n",
       "      <td>0.402655</td>\n",
       "    </tr>\n",
       "    <tr>\n",
       "      <th>pd_isotonic</th>\n",
       "      <td>0.114283</td>\n",
       "      <td>0.749341</td>\n",
       "      <td>0.373296</td>\n",
       "    </tr>\n",
       "    <tr>\n",
       "      <th>pd_category_calibration</th>\n",
       "      <td>0.113862</td>\n",
       "      <td>0.754177</td>\n",
       "      <td>0.371699</td>\n",
       "    </tr>\n",
       "  </tbody>\n",
       "</table>\n",
       "</div>"
      ],
      "text/plain": [
       "                              MSE       AUC  log_loss\n",
       "pd                       0.119903  0.747852  0.389770\n",
       "pd_calibrated            0.114596  0.747852  0.374522\n",
       "pd_linear                0.114873  0.747852  0.402655\n",
       "pd_isotonic              0.114283  0.749341  0.373296\n",
       "pd_category_calibration  0.113862  0.754177  0.371699"
      ]
     },
     "execution_count": 21,
     "metadata": {},
     "output_type": "execute_result"
    }
   ],
   "source": [
    "add_metrics('pd_category_calibration')\n",
    "metrics"
   ]
  },
  {
   "cell_type": "markdown",
   "metadata": {},
   "source": [
    "# Ссылки\n",
    "* [10 Minutes to pandas](http://pandas.pydata.org/pandas-docs/stable/10min.html)\n",
    "* [Python Data Science Handbook](https://github.com/jakevdp/PythonDataScienceHandbook) - книга на github по анализу данных в python."
   ]
  }
 ],
 "metadata": {
  "kernelspec": {
   "display_name": "Python 3",
   "language": "python",
   "name": "python3"
  },
  "language_info": {
   "codemirror_mode": {
    "name": "ipython",
    "version": 3
   },
   "file_extension": ".py",
   "mimetype": "text/x-python",
   "name": "python",
   "nbconvert_exporter": "python",
   "pygments_lexer": "ipython3",
   "version": "3.6.2"
  }
 },
 "nbformat": 4,
 "nbformat_minor": 2
}
